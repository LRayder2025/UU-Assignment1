{
 "cells": [
  {
   "cell_type": "markdown",
   "id": "87b91d83",
   "metadata": {},
   "source": [
    "# Assignment 1\n",
    "### Understanding Uncertainty\n",
    "### Due 9/5"
   ]
  },
  {
   "cell_type": "markdown",
   "id": "380e339f",
   "metadata": {},
   "source": [
    "1. Create a new public repo on Github under your account. Include a readme file.\n",
    "2. Clone it to your machine. Put this file into that repo.\n",
    "3. Use the following function to download the example data for the course:"
   ]
  },
  {
   "cell_type": "code",
   "execution_count": 1,
   "id": "2d62b4f6",
   "metadata": {},
   "outputs": [
    {
     "name": "stdout",
     "output_type": "stream",
     "text": [
      "Downloading course data\n",
      "Download complete\n",
      "Extracting data files...\n",
      "Data extracted\n"
     ]
    }
   ],
   "source": [
    "def download_data(force=False):\n",
    "    \"\"\"Download and extract course data from Zenodo.\"\"\"\n",
    "    import urllib.request, zipfile, os\n",
    "    \n",
    "    zip_path = 'data.zip'\n",
    "    data_dir = 'data'\n",
    "    \n",
    "    if not os.path.exists(zip_path) or force:\n",
    "        print(\"Downloading course data\")\n",
    "        urllib.request.urlretrieve(\n",
    "            'https://zenodo.org/records/16954427/files/data.zip?download=1',\n",
    "            zip_path\n",
    "        )\n",
    "        print(\"Download complete\")\n",
    "    else:\n",
    "        print(\"Download file already exists\")\n",
    "        \n",
    "    if not os.path.exists(data_dir) or force:\n",
    "        print(\"Extracting data files...\")\n",
    "        with zipfile.ZipFile(zip_path, 'r') as zip_ref:\n",
    "            zip_ref.extractall(data_dir)\n",
    "        print(\"Data extracted\")\n",
    "    else:\n",
    "        print(\"Data directory already exists\")\n",
    "\n",
    "download_data()"
   ]
  },
  {
   "cell_type": "markdown",
   "id": "01db0045",
   "metadata": {},
   "source": [
    "4. Open one of the datasets using Pandas:\n",
    "    1. `ames_prices.csv`: Housing characteristics and prices\n",
    "    2. `college_completion.csv`: Public, nonprofit, and for-profit educational institutions, graduation rates, and financial aid\n",
    "    3. `ForeignGifts_edu.csv`: Monetary and in-kind transfers from foreign entities to U.S. educational institutions\n",
    "    4. `iowa.csv`: Liquor sales in Iowa, at the transaction level\n",
    "    5. `metabric.csv`: Cancer patient and outcome data\n",
    "    6. `mn_police_use_of_force.csv`: Records of physical altercations between Minnessota police and private citizens\n",
    "    7. `nhanes_data_17_18.csv`: National Health and Nutrition Examination Survey\n",
    "    8. `tuna.csv`: Yellowfin Tuna Genome (I don't recommend this one; it's just a sequence of G, C, A, T )\n",
    "    9. `va_procurement.csv`: Public spending by the state of Virginia"
   ]
  },
  {
   "cell_type": "code",
   "execution_count": 8,
   "id": "029395f4",
   "metadata": {},
   "outputs": [
    {
     "data": {
      "text/html": [
       "<div>\n",
       "<style scoped>\n",
       "    .dataframe tbody tr th:only-of-type {\n",
       "        vertical-align: middle;\n",
       "    }\n",
       "\n",
       "    .dataframe tbody tr th {\n",
       "        vertical-align: top;\n",
       "    }\n",
       "\n",
       "    .dataframe thead th {\n",
       "        text-align: right;\n",
       "    }\n",
       "</style>\n",
       "<table border=\"1\" class=\"dataframe\">\n",
       "  <thead>\n",
       "    <tr style=\"text-align: right;\">\n",
       "      <th></th>\n",
       "      <th>ID</th>\n",
       "      <th>OPEID</th>\n",
       "      <th>Institution Name</th>\n",
       "      <th>City</th>\n",
       "      <th>State</th>\n",
       "      <th>Foreign Gift Received Date</th>\n",
       "      <th>Foreign Gift Amount</th>\n",
       "      <th>Gift Type</th>\n",
       "      <th>Country of Giftor</th>\n",
       "      <th>Giftor Name</th>\n",
       "    </tr>\n",
       "  </thead>\n",
       "  <tbody>\n",
       "    <tr>\n",
       "      <th>0</th>\n",
       "      <td>1</td>\n",
       "      <td>102000</td>\n",
       "      <td>Jacksonville State University</td>\n",
       "      <td>Jacksonville</td>\n",
       "      <td>AL</td>\n",
       "      <td>43738</td>\n",
       "      <td>250000</td>\n",
       "      <td>Monetary Gift</td>\n",
       "      <td>CHINA</td>\n",
       "      <td>NaN</td>\n",
       "    </tr>\n",
       "    <tr>\n",
       "      <th>1</th>\n",
       "      <td>2</td>\n",
       "      <td>104700</td>\n",
       "      <td>Troy University</td>\n",
       "      <td>Troy</td>\n",
       "      <td>AL</td>\n",
       "      <td>43592</td>\n",
       "      <td>463657</td>\n",
       "      <td>Contract</td>\n",
       "      <td>CHINA</td>\n",
       "      <td>Confucius Institute Headquarters</td>\n",
       "    </tr>\n",
       "    <tr>\n",
       "      <th>2</th>\n",
       "      <td>3</td>\n",
       "      <td>105100</td>\n",
       "      <td>University of Alabama</td>\n",
       "      <td>Tuscaloosa</td>\n",
       "      <td>AL</td>\n",
       "      <td>43466</td>\n",
       "      <td>3649107</td>\n",
       "      <td>Contract</td>\n",
       "      <td>ENGLAND</td>\n",
       "      <td>Springer Nature Customer Service Ce</td>\n",
       "    </tr>\n",
       "    <tr>\n",
       "      <th>3</th>\n",
       "      <td>4</td>\n",
       "      <td>105100</td>\n",
       "      <td>University of Alabama</td>\n",
       "      <td>Tuscaloosa</td>\n",
       "      <td>AL</td>\n",
       "      <td>43472</td>\n",
       "      <td>1000</td>\n",
       "      <td>Contract</td>\n",
       "      <td>SAUDI ARABIA</td>\n",
       "      <td>Saudi Arabia Education Mission</td>\n",
       "    </tr>\n",
       "    <tr>\n",
       "      <th>4</th>\n",
       "      <td>5</td>\n",
       "      <td>105100</td>\n",
       "      <td>University of Alabama</td>\n",
       "      <td>Tuscaloosa</td>\n",
       "      <td>AL</td>\n",
       "      <td>43479</td>\n",
       "      <td>49476</td>\n",
       "      <td>Contract</td>\n",
       "      <td>SAUDI ARABIA</td>\n",
       "      <td>Saudi Arabia Education Mission</td>\n",
       "    </tr>\n",
       "  </tbody>\n",
       "</table>\n",
       "</div>"
      ],
      "text/plain": [
       "   ID   OPEID               Institution Name          City State  \\\n",
       "0   1  102000  Jacksonville State University  Jacksonville    AL   \n",
       "1   2  104700                Troy University          Troy    AL   \n",
       "2   3  105100          University of Alabama    Tuscaloosa    AL   \n",
       "3   4  105100          University of Alabama    Tuscaloosa    AL   \n",
       "4   5  105100          University of Alabama    Tuscaloosa    AL   \n",
       "\n",
       "   Foreign Gift Received Date  Foreign Gift Amount      Gift Type  \\\n",
       "0                       43738               250000  Monetary Gift   \n",
       "1                       43592               463657       Contract   \n",
       "2                       43466              3649107       Contract   \n",
       "3                       43472                 1000       Contract   \n",
       "4                       43479                49476       Contract   \n",
       "\n",
       "  Country of Giftor                          Giftor Name  \n",
       "0             CHINA                                  NaN  \n",
       "1             CHINA     Confucius Institute Headquarters  \n",
       "2           ENGLAND  Springer Nature Customer Service Ce  \n",
       "3      SAUDI ARABIA       Saudi Arabia Education Mission  \n",
       "4      SAUDI ARABIA       Saudi Arabia Education Mission  "
      ]
     },
     "execution_count": 8,
     "metadata": {},
     "output_type": "execute_result"
    }
   ],
   "source": [
    "import pandas as pd\n",
    "import os\n",
    "\n",
    "giftdf = pd.read_csv('./data/ForeignGifts_edu.csv')\n",
    "giftdf.head()"
   ]
  },
  {
   "cell_type": "markdown",
   "id": "fa5cade1",
   "metadata": {},
   "source": [
    "5. Pick two or three variables and briefly analyze them\n",
    "    - Is it a categorical or numeric variable?\n",
    "    - How many missing values are there? (`df['var'].isna()` and `np.sum()`)\n",
    "    - If categorical, tabulate the values (`df['var'].value_counts()`) and if numeric, get a summary (`df['var'].describe()`)"
   ]
  },
  {
   "cell_type": "code",
   "execution_count": 18,
   "id": "eacd0671",
   "metadata": {},
   "outputs": [
    {
     "name": "stdout",
     "output_type": "stream",
     "text": [
      "There are 0 missing values in Institution Name\n",
      "There are 0 missing values in Foreign Gift Amount\n",
      "There are 3751 missing values in Giftor Name\n"
     ]
    },
    {
     "data": {
      "text/plain": [
       "count    2.822100e+04\n",
       "mean     5.882327e+05\n",
       "std      3.222011e+06\n",
       "min     -5.377700e+05\n",
       "25%      5.700000e+03\n",
       "50%      9.461500e+04\n",
       "75%      3.761420e+05\n",
       "max      1.000000e+08\n",
       "Name: Foreign Gift Amount, dtype: float64"
      ]
     },
     "execution_count": 18,
     "metadata": {},
     "output_type": "execute_result"
    }
   ],
   "source": [
    "institution = giftdf['Institution Name']\n",
    "amount = giftdf['Foreign Gift Amount']\n",
    "giftor = giftdf['Giftor Name']\n",
    "\n",
    "# 1 -- Is it categorical or numeric?\n",
    "# Institution Name and Giftor Name are categorical, Foreign Gift Amount is numeric\n",
    "\n",
    "# 2 -- How many missing values are there?\n",
    "for column in ['Institution Name', 'Foreign Gift Amount', 'Giftor Name']:\n",
    "    print(\"There are\", giftdf[column].isna().sum(), \"missing values in\", column)\n",
    "\n",
    "# There are 0 missing values in Institution Name\n",
    "# There are 0 missing values in Foreign Gift Amount\n",
    "# There are 3751 missing values in Giftor Name\n",
    "\n",
    "# 3 -- Tabulating and summarizing values\n",
    "giftdf[['Institution Name']].value_counts()\n",
    "giftdf[['Giftor Name']].value_counts()\n",
    "giftdf['Foreign Gift Amount'].describe()"
   ]
  },
  {
   "cell_type": "markdown",
   "id": "dbf2318a",
   "metadata": {},
   "source": [
    "6. What are some questions and prediction tools you could create using these data? Who would the stakeholder be for that prediction tool? What practical or ethical questions would it create? What other data would you want, that are not available in your data?"
   ]
  },
  {
   "cell_type": "markdown",
   "id": "1d837c7e",
   "metadata": {},
   "source": [
    "Some questions might be: From which nation is a school most likely to receive money? How much money should we typically expect from our donors? Which state receives the most foreign aid? \n",
    "A prediction tool might predict who is most likely to donate money, what the size of a donation is likely to be, and how frequently an institution may receive money. The stakeholder for these financial tools may be someone at an institution trying to solicit more donations, or a government official looking to track suspitious gifts received by universities. \n",
    "There would be some ethical questions involved with any attempt at trying to receive money from a nation whose interests go against those of the U.S. or of the general public. Conversely, privacy issues with the government trying to get involved with the financial affairs of universities. \n",
    "Some other data I might want may be the population of the university or the level of animosity the giftor nation has towards the US."
   ]
  },
  {
   "cell_type": "markdown",
   "id": "a4a7ddc7",
   "metadata": {},
   "source": [
    "7. Commit your work to the repo (`git commit -am 'Finish assignment'` at the command line, or use the Git panel in VS Code). Push your work back to Github and submit the link on Canvas in the assignment tab."
   ]
  }
 ],
 "metadata": {
  "kernelspec": {
   "display_name": "base",
   "language": "python",
   "name": "python3"
  },
  "language_info": {
   "codemirror_mode": {
    "name": "ipython",
    "version": 3
   },
   "file_extension": ".py",
   "mimetype": "text/x-python",
   "name": "python",
   "nbconvert_exporter": "python",
   "pygments_lexer": "ipython3",
   "version": "3.13.5"
  }
 },
 "nbformat": 4,
 "nbformat_minor": 5
}
